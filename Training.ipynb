{
 "cells": [
  {
   "cell_type": "code",
   "execution_count": 1,
   "id": "ef810749",
   "metadata": {},
   "outputs": [],
   "source": [
    "from tensorflow.compat.v1 import ConfigProto\n",
    "from tensorflow.compat.v1 import InteractiveSession\n",
    "\n",
    "config = ConfigProto()\n",
    "config.gpu_options.allow_growth = True\n",
    "session = InteractiveSession(config=config)\n",
    "\n",
    "from tensorflow.keras.models import Sequential\n",
    "from tensorflow.keras.layers import Conv2D\n",
    "from tensorflow.keras.layers import MaxPooling2D\n",
    "from tensorflow.keras.layers import Flatten\n",
    "from tensorflow.keras.layers import Dense\n",
    "from tensorflow.keras.preprocessing.image import ImageDataGenerator\n",
    "import tensorflow as tf\n",
    "tf.compat.v1.disable_eager_execution()\n",
    "import matplotlib.pyplot as plt\n",
    "import numpy as np\n",
    "import os\n",
    "\n"
   ]
  },
  {
   "cell_type": "code",
   "execution_count": 16,
   "id": "60149edd",
   "metadata": {},
   "outputs": [],
   "source": [
    "\n",
    "#basic cnn\n",
    "# Initialising the CNN\n",
    "classifier = Sequential()\n",
    "\n",
    "# Step 1 - Convolution    128 -> 256\n",
    "classifier.add(Conv2D(32, (3, 3), input_shape = (256, 256, 3), activation = 'relu'))\n",
    "\n",
    "# Step 2 - Pooling\n",
    "classifier.add(MaxPooling2D(pool_size = (2, 2)))\n",
    "\n",
    "# Adding a second convolutional layer\n",
    "classifier.add(Conv2D(32, (3, 3), activation = 'relu'))\n",
    "classifier.add(MaxPooling2D(pool_size = (2, 2)))\n",
    "\n",
    "# Step 3 - Flattening\n",
    "classifier.add(Flatten())\n",
    "\n",
    "# Step 4 - Full connection\n",
    "classifier.add(Dense(units = 256, activation = 'relu'))\n",
    "classifier.add(Dense(units = 12, activation = 'sigmoid'))\n",
    "\n",
    "# Compiling the CNN\n",
    "classifier.compile(optimizer = 'adam', loss = 'categorical_crossentropy', metrics = ['accuracy'])"
   ]
  },
  {
   "cell_type": "code",
   "execution_count": null,
   "id": "38252847",
   "metadata": {},
   "outputs": [],
   "source": []
  },
  {
   "cell_type": "code",
   "execution_count": 17,
   "id": "44b9e7fb",
   "metadata": {},
   "outputs": [
    {
     "name": "stdout",
     "output_type": "stream",
     "text": [
      "Found 231 images belonging to 12 classes.\n",
      "Found 238 images belonging to 12 classes.\n",
      "{'Canker_fruits-disease': 0, 'Caterpillar worms leaf Disease': 1, 'Faint color fruit disease': 2, 'InitialBurn leaf Disease': 3, 'Myrtle Rust leaf disease': 4, 'Nutrition deficiency leaf disease': 5, 'SemiBurn leaaf disease': 6, 'crack_fruits_disease': 7, 'diplodia_fruits_disease': 8, 'fungi_fruits_disease': 9, 'shrink leaf disease': 10, 'uneven size fruit disease': 11}\n"
     ]
    }
   ],
   "source": [
    "\n",
    "\n",
    "\n",
    "train_datagen = ImageDataGenerator(rescale = 1./255, shear_range = 0.2, zoom_range = 0.2, horizontal_flip = True)\n",
    "\n",
    "test_datagen = ImageDataGenerator(rescale = 1./255)\n",
    "\n",
    "training_set = train_datagen.flow_from_directory('C:/Users/Jayraj/Prototype MK4/Dataset/train', # relative path from working directoy\n",
    "                                                 target_size = (256, 256),\n",
    "                                                 batch_size = 6, class_mode = 'categorical')\n",
    "valid_set = test_datagen.flow_from_directory('C:/Users/Jayraj/Prototype MK4/Dataset/val', # relative path from working directoy\n",
    "                                             target_size = (256, 256), \n",
    "                                        batch_size = 3, class_mode = 'categorical')\n",
    "\n",
    "labels = (training_set.class_indices)\n",
    "print(labels)"
   ]
  },
  {
   "cell_type": "code",
   "execution_count": 18,
   "id": "139023ed",
   "metadata": {},
   "outputs": [
    {
     "name": "stderr",
     "output_type": "stream",
     "text": [
      "C:\\Users\\Jayraj\\AppData\\Local\\Temp/ipykernel_8664/695035287.py:1: UserWarning: `model.fit_generator` is deprecated and will be removed in a future version. Please use `Model.fit`, which supports generators.\n",
      "  classifier.fit_generator(training_set,\n"
     ]
    },
    {
     "name": "stdout",
     "output_type": "stream",
     "text": [
      "Epoch 1/50\n",
      "20/20 [==============================] - ETA: 0s - batch: 9.5000 - size: 5.8500 - loss: 5.5342 - accuracy: 0.1880"
     ]
    },
    {
     "name": "stderr",
     "output_type": "stream",
     "text": [
      "C:\\Users\\Jayraj\\anaconda3\\lib\\site-packages\\keras\\engine\\training_v1.py:2057: UserWarning: `Model.state_updates` will be removed in a future version. This property should not be used in TensorFlow 2.0, as `updates` are applied automatically.\n",
      "  updates = self.state_updates\n"
     ]
    },
    {
     "name": "stdout",
     "output_type": "stream",
     "text": [
      "20/20 [==============================] - 34s 1s/step - batch: 9.5000 - size: 5.8500 - loss: 5.5389 - accuracy: 0.1880 - val_loss: 2.0783 - val_accuracy: 0.2899\n",
      "Epoch 2/50\n",
      "20/20 [==============================] - 22s 1s/step - batch: 9.5000 - size: 6.0000 - loss: 1.8851 - accuracy: 0.4417 - val_loss: 1.8424 - val_accuracy: 0.4286\n",
      "Epoch 3/50\n",
      "20/20 [==============================] - 21s 1s/step - batch: 9.5000 - size: 6.0000 - loss: 1.4624 - accuracy: 0.4500 - val_loss: 1.3043 - val_accuracy: 0.6345\n",
      "Epoch 4/50\n",
      "20/20 [==============================] - 22s 1s/step - batch: 9.5000 - size: 5.8500 - loss: 1.6423 - accuracy: 0.4872 - val_loss: 1.1666 - val_accuracy: 0.5798\n",
      "Epoch 5/50\n",
      "20/20 [==============================] - 22s 1s/step - batch: 9.5000 - size: 6.0000 - loss: 1.2030 - accuracy: 0.5583 - val_loss: 1.0593 - val_accuracy: 0.5798\n",
      "Epoch 6/50\n",
      "20/20 [==============================] - 21s 1s/step - batch: 9.5000 - size: 5.8500 - loss: 1.0830 - accuracy: 0.5983 - val_loss: 0.9006 - val_accuracy: 0.6765\n",
      "Epoch 7/50\n",
      "20/20 [==============================] - 21s 1s/step - batch: 9.5000 - size: 6.0000 - loss: 1.0110 - accuracy: 0.6833 - val_loss: 0.7955 - val_accuracy: 0.7143\n",
      "Epoch 8/50\n",
      "20/20 [==============================] - 21s 1s/step - batch: 9.5000 - size: 5.8500 - loss: 1.0664 - accuracy: 0.6239 - val_loss: 0.9635 - val_accuracy: 0.6303\n",
      "Epoch 9/50\n",
      "20/20 [==============================] - 21s 1s/step - batch: 9.5000 - size: 5.8500 - loss: 0.9955 - accuracy: 0.6581 - val_loss: 1.2008 - val_accuracy: 0.5756\n",
      "Epoch 10/50\n",
      "20/20 [==============================] - 22s 1s/step - batch: 9.5000 - size: 6.0000 - loss: 1.0895 - accuracy: 0.6583 - val_loss: 0.9056 - val_accuracy: 0.6765\n",
      "Epoch 11/50\n",
      "20/20 [==============================] - 24s 1s/step - batch: 9.5000 - size: 5.8500 - loss: 1.1204 - accuracy: 0.6410 - val_loss: 0.8015 - val_accuracy: 0.7101\n",
      "Epoch 12/50\n",
      "20/20 [==============================] - 23s 1s/step - batch: 9.5000 - size: 6.0000 - loss: 1.0644 - accuracy: 0.5917 - val_loss: 0.8444 - val_accuracy: 0.6807\n",
      "Epoch 13/50\n",
      "20/20 [==============================] - 22s 1s/step - batch: 9.5000 - size: 5.8500 - loss: 1.1094 - accuracy: 0.6923 - val_loss: 1.0104 - val_accuracy: 0.6429\n",
      "Epoch 14/50\n",
      "20/20 [==============================] - 25s 1s/step - batch: 9.5000 - size: 6.0000 - loss: 1.2087 - accuracy: 0.5833 - val_loss: 1.0631 - val_accuracy: 0.6261\n",
      "Epoch 15/50\n",
      "20/20 [==============================] - 22s 1s/step - batch: 9.5000 - size: 6.0000 - loss: 0.9272 - accuracy: 0.6417 - val_loss: 1.0404 - val_accuracy: 0.6092\n",
      "Epoch 16/50\n",
      "20/20 [==============================] - 22s 1s/step - batch: 9.5000 - size: 5.8500 - loss: 0.9331 - accuracy: 0.6496 - val_loss: 0.6974 - val_accuracy: 0.7563\n",
      "Epoch 17/50\n",
      "20/20 [==============================] - 24s 1s/step - batch: 9.5000 - size: 6.0000 - loss: 0.7591 - accuracy: 0.7333 - val_loss: 0.6879 - val_accuracy: 0.7311\n",
      "Epoch 18/50\n",
      "20/20 [==============================] - 22s 1s/step - batch: 9.5000 - size: 5.8500 - loss: 0.8291 - accuracy: 0.7009 - val_loss: 0.7019 - val_accuracy: 0.7437\n",
      "Epoch 19/50\n",
      "20/20 [==============================] - 21s 1s/step - batch: 9.5000 - size: 5.8500 - loss: 0.8305 - accuracy: 0.7094 - val_loss: 0.6685 - val_accuracy: 0.7773\n",
      "Epoch 20/50\n",
      "20/20 [==============================] - 23s 1s/step - batch: 9.5000 - size: 6.0000 - loss: 0.7228 - accuracy: 0.7583 - val_loss: 0.5777 - val_accuracy: 0.7983\n",
      "Epoch 21/50\n",
      "20/20 [==============================] - 22s 1s/step - batch: 9.5000 - size: 5.8500 - loss: 0.6135 - accuracy: 0.8034 - val_loss: 0.5141 - val_accuracy: 0.8193\n",
      "Epoch 22/50\n",
      "20/20 [==============================] - 22s 1s/step - batch: 9.5000 - size: 5.8500 - loss: 0.6120 - accuracy: 0.7265 - val_loss: 0.5140 - val_accuracy: 0.8403\n",
      "Epoch 23/50\n",
      "20/20 [==============================] - 21s 1s/step - batch: 9.5000 - size: 6.0000 - loss: 0.6662 - accuracy: 0.7833 - val_loss: 0.6059 - val_accuracy: 0.7437\n",
      "Epoch 24/50\n",
      "20/20 [==============================] - 21s 1s/step - batch: 9.5000 - size: 5.8500 - loss: 0.7670 - accuracy: 0.7521 - val_loss: 0.5356 - val_accuracy: 0.8277\n",
      "Epoch 25/50\n",
      "20/20 [==============================] - 25s 1s/step - batch: 9.5000 - size: 6.0000 - loss: 0.6868 - accuracy: 0.7667 - val_loss: 0.4989 - val_accuracy: 0.8151\n",
      "Epoch 26/50\n",
      "20/20 [==============================] - 24s 1s/step - batch: 9.5000 - size: 6.0000 - loss: 0.5550 - accuracy: 0.8083 - val_loss: 0.4804 - val_accuracy: 0.8445\n",
      "Epoch 27/50\n",
      "20/20 [==============================] - 21s 1s/step - batch: 9.5000 - size: 5.8500 - loss: 0.6245 - accuracy: 0.8120 - val_loss: 0.5579 - val_accuracy: 0.8361\n",
      "Epoch 28/50\n",
      "20/20 [==============================] - 21s 1s/step - batch: 9.5000 - size: 6.0000 - loss: 0.7273 - accuracy: 0.7167 - val_loss: 0.5310 - val_accuracy: 0.8529\n",
      "Epoch 29/50\n",
      "20/20 [==============================] - 22s 1s/step - batch: 9.5000 - size: 6.0000 - loss: 0.5845 - accuracy: 0.8417 - val_loss: 0.6480 - val_accuracy: 0.7647\n",
      "Epoch 30/50\n",
      "20/20 [==============================] - 22s 1s/step - batch: 9.5000 - size: 5.7000 - loss: 0.5899 - accuracy: 0.7895 - val_loss: 0.5410 - val_accuracy: 0.8193\n",
      "Epoch 31/50\n",
      "20/20 [==============================] - 22s 1s/step - batch: 9.5000 - size: 6.0000 - loss: 0.8022 - accuracy: 0.7000 - val_loss: 0.6243 - val_accuracy: 0.7479\n",
      "Epoch 32/50\n",
      "20/20 [==============================] - 22s 1s/step - batch: 9.5000 - size: 6.0000 - loss: 0.6965 - accuracy: 0.8000 - val_loss: 0.4182 - val_accuracy: 0.8403\n",
      "Epoch 33/50\n",
      "20/20 [==============================] - 23s 1s/step - batch: 9.5000 - size: 5.8500 - loss: 0.4499 - accuracy: 0.8376 - val_loss: 0.4306 - val_accuracy: 0.8277\n",
      "Epoch 34/50\n",
      "20/20 [==============================] - 21s 1s/step - batch: 9.5000 - size: 6.0000 - loss: 0.7657 - accuracy: 0.7417 - val_loss: 0.6210 - val_accuracy: 0.8067\n",
      "Epoch 35/50\n",
      "20/20 [==============================] - 21s 1s/step - batch: 9.5000 - size: 6.0000 - loss: 0.6291 - accuracy: 0.7833 - val_loss: 0.4778 - val_accuracy: 0.8908\n",
      "Epoch 36/50\n",
      "20/20 [==============================] - 21s 1s/step - batch: 9.5000 - size: 5.8500 - loss: 0.5304 - accuracy: 0.8547 - val_loss: 0.2823 - val_accuracy: 0.9118\n",
      "Epoch 37/50\n",
      "20/20 [==============================] - 21s 1s/step - batch: 9.5000 - size: 5.8500 - loss: 0.5159 - accuracy: 0.8120 - val_loss: 0.2805 - val_accuracy: 0.9328\n",
      "Epoch 38/50\n",
      "20/20 [==============================] - 21s 1s/step - batch: 9.5000 - size: 5.8500 - loss: 0.2779 - accuracy: 0.9231 - val_loss: 0.3772 - val_accuracy: 0.8908\n",
      "Epoch 39/50\n",
      "20/20 [==============================] - 22s 1s/step - batch: 9.5000 - size: 6.0000 - loss: 0.5689 - accuracy: 0.7833 - val_loss: 1.1002 - val_accuracy: 0.6429\n",
      "Epoch 40/50\n",
      "20/20 [==============================] - 22s 1s/step - batch: 9.5000 - size: 6.0000 - loss: 0.8901 - accuracy: 0.7083 - val_loss: 0.4323 - val_accuracy: 0.8908\n",
      "Epoch 41/50\n",
      "20/20 [==============================] - 21s 1s/step - batch: 9.5000 - size: 5.8500 - loss: 0.6565 - accuracy: 0.8205 - val_loss: 0.3284 - val_accuracy: 0.8697\n",
      "Epoch 42/50\n",
      "20/20 [==============================] - 22s 1s/step - batch: 9.5000 - size: 5.8500 - loss: 0.4464 - accuracy: 0.8291 - val_loss: 0.3994 - val_accuracy: 0.8235\n",
      "Epoch 43/50\n",
      "20/20 [==============================] - 21s 1s/step - batch: 9.5000 - size: 6.0000 - loss: 0.6183 - accuracy: 0.7750 - val_loss: 0.2740 - val_accuracy: 0.9412\n",
      "Epoch 44/50\n",
      "20/20 [==============================] - 21s 1s/step - batch: 9.5000 - size: 5.8500 - loss: 0.3883 - accuracy: 0.8547 - val_loss: 0.3043 - val_accuracy: 0.9118\n",
      "Epoch 45/50\n",
      "20/20 [==============================] - 21s 1s/step - batch: 9.5000 - size: 6.0000 - loss: 0.3873 - accuracy: 0.8250 - val_loss: 0.2329 - val_accuracy: 0.9160\n",
      "Epoch 46/50\n",
      "20/20 [==============================] - 21s 1s/step - batch: 9.5000 - size: 6.0000 - loss: 0.3434 - accuracy: 0.8667 - val_loss: 0.2124 - val_accuracy: 0.9412\n",
      "Epoch 47/50\n",
      "20/20 [==============================] - 22s 1s/step - batch: 9.5000 - size: 5.8500 - loss: 0.3067 - accuracy: 0.8547 - val_loss: 0.2574 - val_accuracy: 0.9034\n",
      "Epoch 48/50\n"
     ]
    },
    {
     "name": "stdout",
     "output_type": "stream",
     "text": [
      "20/20 [==============================] - 22s 1s/step - batch: 9.5000 - size: 5.8500 - loss: 0.3142 - accuracy: 0.8803 - val_loss: 0.2524 - val_accuracy: 0.9370\n",
      "Epoch 49/50\n",
      "20/20 [==============================] - 23s 1s/step - batch: 9.5000 - size: 6.0000 - loss: 0.4381 - accuracy: 0.8500 - val_loss: 0.2012 - val_accuracy: 0.9622\n",
      "Epoch 50/50\n",
      "20/20 [==============================] - 23s 1s/step - batch: 9.5000 - size: 5.8500 - loss: 0.2877 - accuracy: 0.8974 - val_loss: 0.1520 - val_accuracy: 0.9454\n"
     ]
    },
    {
     "data": {
      "text/plain": [
       "<keras.callbacks.History at 0x1b0c37ed400>"
      ]
     },
     "execution_count": 18,
     "metadata": {},
     "output_type": "execute_result"
    }
   ],
   "source": [
    "\n",
    "classifier.fit_generator(training_set,\n",
    "                         steps_per_epoch = 20,\n",
    "                         epochs = 50,\n",
    "                         validation_data=valid_set\n",
    "\n",
    "                         )"
   ]
  },
  {
   "cell_type": "code",
   "execution_count": 19,
   "id": "8d84a4e2",
   "metadata": {},
   "outputs": [
    {
     "name": "stdout",
     "output_type": "stream",
     "text": [
      "Saved model to disk\n"
     ]
    }
   ],
   "source": [
    "\n",
    "\n",
    "\n",
    "\n",
    "\n",
    "\n",
    "classifier_json=classifier.to_json()\n",
    "with open(\"model1.json\", \"w\") as json_file:\n",
    "    json_file.write(classifier_json)\n",
    "# serialize weights to HDF5\n",
    "    classifier.save_weights(\"my_model_weights.h5\")\n",
    "    classifier.save(\"model.h5\")\n",
    "    print(\"Saved model to disk\")\n",
    "\n"
   ]
  },
  {
   "cell_type": "code",
   "execution_count": null,
   "id": "ce608e19",
   "metadata": {},
   "outputs": [],
   "source": []
  }
 ],
 "metadata": {
  "kernelspec": {
   "display_name": "Python 3 (ipykernel)",
   "language": "python",
   "name": "python3"
  },
  "language_info": {
   "codemirror_mode": {
    "name": "ipython",
    "version": 3
   },
   "file_extension": ".py",
   "mimetype": "text/x-python",
   "name": "python",
   "nbconvert_exporter": "python",
   "pygments_lexer": "ipython3",
   "version": "3.9.7"
  }
 },
 "nbformat": 4,
 "nbformat_minor": 5
}
